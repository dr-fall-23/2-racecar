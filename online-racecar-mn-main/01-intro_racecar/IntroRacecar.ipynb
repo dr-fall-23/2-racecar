{
 "cells": [
  {
   "cell_type": "code",
   "execution_count": 1,
   "metadata": {},
   "outputs": [
    {
     "name": "stdout",
     "output_type": "stream",
     "text": [
      "ROS node started successfully\n"
     ]
    }
   ],
   "source": [
    "# Import functions \n",
    "import sys\n",
    "sys.path.insert(0, '..')\n",
    "from racecar_utils import * \n",
    "\n",
    "from time import sleep"
   ]
  },
  {
   "cell_type": "markdown",
   "metadata": {},
   "source": [
    "# Start Up Instructions\n",
    "\n",
    "<p style='font-size:1.75rem;line-height:1.5'>\n",
    "    Please read the startup instructions PDF before getting started!\n",
    "    </p>"
   ]
  },
  {
   "cell_type": "markdown",
   "metadata": {},
   "source": [
    "# Operating the Car\n",
    "\n",
    "<p style='font-size:1.75rem;line-height:1.5'>\n",
    "    <code>rc.drive({speed}, {angle})</code> is a function that tells the car to drive at the speed and angle passed into the function. \n",
    "    <br> <code>rc.run({function name})</code> is a function that tells the car to run the function passed into <code>rc.run</code> for about 10 seconds. \n",
    "</p>\n",
    "\n",
    "<p style='font-size:1.75rem;line-height:1.5'>\n",
    "    For now, let us experiment with the speed and angle to get used to how the car measurements work. \n",
    "</p>"
   ]
  },
  {
   "cell_type": "code",
   "execution_count": null,
   "metadata": {},
   "outputs": [],
   "source": [
    "qos_profile = QoSProfile(depth=1)\n",
    "qos_profile.history = QoSHistoryPolicy.RMW_QOS_POLICY_HISTORY_KEEP_LAST\n",
    "qos_profile.reliability = QoSReliabilityPolicy.RMW_QOS_POLICY_RELIABILITY_BEST_EFFORT\n",
    "qos_profile.durability = QoSDurabilityPolicy.RMW_QOS_POLICY_DURABILITY_VOLATILE\n",
    "\n",
    "_pub = rc.create_publisher(AckermannDriveStamped, '/drive', qos_profile)\n",
    "\n",
    "msg = AckermannDriveStamped()\n",
    "msg.drive.speed = 0.1\n",
    "msg.drive.steering_angle = 0.0\n",
    "\n",
    "for i in range(100):\n",
    "    _pub.publish(msg)\n",
    "    time.sleep(0.1)\n",
    "\n",
    "_pub.publish(AckermannDriveStamped())\n",
    "\n",
    "rc.destroy_node()\n",
    "rclpy.shutdown()\n",
    "    \n",
    "# car will drive forward for ~10 seconds\n",
    "#def drive_forward(frame):\n",
    "#    rc.drive(0.2, 0) # change these numbers: rc.run(speed, angle)\n",
    "    \n",
    "#rc.run(drive_forward, 10)"
   ]
  },
  {
   "cell_type": "code",
   "execution_count": 15,
   "metadata": {},
   "outputs": [
    {
     "name": "stdout",
     "output_type": "stream",
     "text": [
      "0.05\n",
      "0.0\n",
      "-0.05\n"
     ]
    }
   ],
   "source": [
    "TEST_TIME = 3\n",
    "\n",
    "def drive_test(drive):\n",
    "    drive(0.05, 0.0)\n",
    "    sleep(TEST_TIME / 3)\n",
    "    drive(0.0, 0.0)\n",
    "    sleep(TEST_TIME / 3)\n",
    "    drive(-0.05, 0.0)\n",
    "    sleep(TEST_TIME / 3)\n",
    "\n",
    "withDriving(drive_test)"
   ]
  },
  {
   "cell_type": "markdown",
   "metadata": {},
   "source": [
    "# Part 1: Speed Measurements\n",
    "\n",
    "<p style='font-size:1.75rem;line-height:1.5'>\n",
    "    <b style='color:red'>Remember to get a sticker from a TA before taking your car off the block! </b>\n",
    "</p>\n",
    "\n",
    "<p style='font-size:1.75rem;line-height:1.5'>\n",
    "    By now, we have realized that we need to approximate what <code>0.2</code> in car measurements translates into human measurements. To do so, we TAs have prepared a long ruler tape that the car can drive upon and based on that and a (possibly human) calculator, we can calculate the speed of car in <code>inches/sec</code>. \n",
    "    </p>\n",
    "\n",
    "<p style='font-size:1.75rem;line-height:1.5'>\n",
    "    Car measurements and human measurements may not translate linearly, so it may be wise to test at different intervals:\n",
    "    <ul style='font-size:1.75rem;line-height:1.5'>\n",
    "        <li>To help both us document and double check, submit the results to the following form. You may submit it multiple times: https://forms.gle/iNzNW2aiQE8nFAqA7</li>\n",
    "        <li>If the measurements are drastically different from what is expected, we will tell you to fix it \n",
    "            <br> (may also just be a low motor battery problem).</li>\n",
    "    </ul>\n",
    "    </p>\n",
    "    \n",
    "<p style='font-size:1.75rem;line-height:1.5'>\n",
    "    Get a TA's okay when your group is ready to start the car on the ground. (TAs may ask you at what number a car will no longer speed up or turn any more.)\n",
    "    </p>"
   ]
  },
  {
   "cell_type": "code",
   "execution_count": null,
   "metadata": {},
   "outputs": [],
   "source": [
    "TEST_TIME = 3\n",
    "\n",
    "def drive_test(drive):\n",
    "    drive(0.05, 0.0)\n",
    "    sleep(TEST_TIME / 3)\n",
    "    drive(0.0, 0.0)\n",
    "    sleep(TEST_TIME / 3)\n",
    "    drive(-0.05, 0.0)\n",
    "    sleep(TEST_TIME / 3)\n",
    "\n",
    "withDriving(drive_test)"
   ]
  },
  {
   "cell_type": "markdown",
   "metadata": {},
   "source": [
    "# Part 2: Shape Driving\n",
    "\n",
    "<p style='font-size:1.75rem;line-height:1.5'>\n",
    "    <b style='color:red'>Remember to get a sticker from a TA before taking your car off the block!</b>\n",
    "    <br> Now that we have basic idea of the measurements, let us make a function that will drive the car in a circle autonomously! \n",
    "</p>"
   ]
  },
  {
   "cell_type": "markdown",
   "metadata": {},
   "source": [
    "<p style='font-size:1.75rem;line-height:1.5'>\n",
    "    Drive your car in a circle autonomously!\n",
    "    </p>"
   ]
  },
  {
   "cell_type": "code",
   "execution_count": null,
   "metadata": {},
   "outputs": [],
   "source": [
    "TEST_TIME = 3\n",
    "\n",
    "def drive_test(drive):\n",
    "    drive(0.05, 0.2)\n",
    "    sleep(TEST_TIME)\n",
    "\n",
    "withDriving(drive_test)"
   ]
  },
  {
   "cell_type": "markdown",
   "metadata": {},
   "source": [
    "<p style='font-size:1.75rem;line-height:1.5'>\n",
    "    Drive your car in a rectangle autonomously!\n",
    "    </p>"
   ]
  },
  {
   "cell_type": "code",
   "execution_count": null,
   "metadata": {},
   "outputs": [],
   "source": [
    "TEST_TIME = 4\n",
    "\n",
    "def drive_test(drive):\n",
    "    drive(0.05, 0.2)\n",
    "    sleep(TEST_TIME)\n",
    "\n",
    "withDriving(drive_test)"
   ]
  },
  {
   "cell_type": "markdown",
   "metadata": {},
   "source": [
    "<p style='font-size:1.75rem;line-height:1.5'>\n",
    "    <b>Challenge:</b> Try driving your car in a figure-eight autonomously! \n",
    "</p> "
   ]
  },
  {
   "cell_type": "code",
   "execution_count": null,
   "metadata": {},
   "outputs": [],
   "source": [
    "TEST_TIME = 4\n",
    "\n",
    "def drive_test(drive):\n",
    "    drive(0.05, 0.2)\n",
    "    sleep(TEST_TIME)\n",
    "\n",
    "withDriving(drive_test)"
   ]
  },
  {
   "cell_type": "markdown",
   "metadata": {},
   "source": [
    "# Mini Competition 1: Cone Parking\n",
    "\n",
    "<p style='font-size:1.75rem;line-height:1.5'>\n",
    "    <b style='color:red'>Remember to get a sticker from a TA before taking your car off the block!</b>\n",
    "    </p>\n",
    "\n",
    "<p style='font-size:1.75rem;line-height:1.5'>\n",
    "    Now, we are going to have a small competition where we learn to park cars in front of a cone. \n",
    "    <br>Here are the rules:\n",
    "    <ol style='font-size:1.75rem;line-height:1.5'>\n",
    "        <li> Winner is the car that <b style='color:green'>starts the furthest away from cone</b>, and <b style='color:green'>parks exactly half a foot away</b> from the cone. \n",
    "            <br>The highest scoring (aka most accurately parking) car wins.</li> \n",
    "        <br>\n",
    "        <li> <b style='color:magenta'>The car should park autonomously.</b> \n",
    "            <br> Any attempt that involves the joystick taking over control will be disqualified. </li>\n",
    "        <br>\n",
    "        <li> <b style='color:blue'>Hitting a wall = car getting taken away.</b> <b>So be careful even on your first attempts!</b>\n",
    "            <br> It is better to start off too slow than too fast. <b style='color:red'>START SLOW</b></li>\n",
    "    </ol>\n",
    "</p>\n",
    "\n",
    "<p style='font-size:1.75rem;line-height:1.5'>\n",
    "    Points calculation formula (best attempt):\n",
    "</p>\n",
    "\n",
    "```python\n",
    "points = [start_distance - sqrt(speed)*error] / 12\n",
    "```"
   ]
  },
  {
   "cell_type": "code",
   "execution_count": null,
   "metadata": {},
   "outputs": [],
   "source": [
    "TEST_TIME = 4\n",
    "\n",
    "def drive_test(drive):\n",
    "    drive(0.05, 0.2)\n",
    "    sleep(TEST_TIME)\n",
    "\n",
    "withDriving(drive_test)"
   ]
  },
  {
   "cell_type": "markdown",
   "metadata": {},
   "source": [
    "# Mini Competition 2: Obstacle Navigation\n",
    "\n",
    "<p style='font-size:1.75rem;line-height:1.5'>\n",
    "    <b style='color:red'>Remember to get a sticker from a TA before taking your car off the block!</b>\n",
    "    </p>\n",
    "    \n",
    "<p style='font-size:1.75rem;line-height:1.5'>\n",
    "    Next, we will have a competition to see who can best navigate obstacles of exactly 4 feet apart. The winning car will be the car that can best weave through these obstacles and not bump into them. This time, we won't give a rubric.\n",
    "    </p>\n",
    "\n",
    "<p style='font-size:1.75rem;line-height:1.5'>\n",
    "    Have fun testing! \n",
    "    </p>\n",
    "\n"
   ]
  },
  {
   "cell_type": "code",
   "execution_count": null,
   "metadata": {},
   "outputs": [],
   "source": [
    "TEST_TIME = 4\n",
    "\n",
    "def drive_test(drive):\n",
    "    drive(0.05, 0.2)\n",
    "    sleep(TEST_TIME)\n",
    "\n",
    "withDriving(drive_test)"
   ]
  }
 ],
 "metadata": {
  "kernelspec": {
   "display_name": "Python 3",
   "language": "python",
   "name": "python3"
  },
  "language_info": {
   "codemirror_mode": {
    "name": "ipython",
    "version": 3
   },
   "file_extension": ".py",
   "mimetype": "text/x-python",
   "name": "python",
   "nbconvert_exporter": "python",
   "pygments_lexer": "ipython3",
   "version": "3.6.9"
  }
 },
 "nbformat": 4,
 "nbformat_minor": 4
}
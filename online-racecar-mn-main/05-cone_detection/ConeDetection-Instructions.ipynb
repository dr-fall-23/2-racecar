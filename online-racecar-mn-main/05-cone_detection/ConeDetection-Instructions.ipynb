{
 "cells": [
  {
   "cell_type": "markdown",
   "metadata": {},
   "source": [
    "# Checkpoint\n",
    "\n",
    "<p style='font-size:1.75rem;line-height:1.5'>\n",
    "    In order to attempt Cone Detection, you MUST have completed Cone Following. This challenge relies largely on previously written code for Cone Following in order to properly identify cones.\n",
    "    </p>\n",
    "    \n",
    "<p style='font-size:1.75rem;line-height:1.5'>\n",
    "    If you have NOT completed the Cone Following Lab, please complete the lab first.\n",
    "    </p>"
   ]
  },
  {
   "cell_type": "markdown",
   "metadata": {},
   "source": [
    "# Save Your Work!\n",
    "\n",
    "<p style='font-size:1.75rem;line-height:1.5'>\n",
    "    Super awesome job on path selection! Give each other a pat on the back.\n",
    "    <br><br>You will need to <b>save your work</b> before continuing on to the next section:\n",
    "    <ul style='font-size:1.75rem;line-height:1.5'>\n",
    "        <li>Duplicate <code>\"LineFollowing.ipynb\"</code></li>\n",
    "        <li>Move the duplicate copy to your <code>/back-up</code> folder.</li>\n",
    "        <li>Duplicate <code>\"LineFollowing.ipynb\"</code> again</li>\n",
    "        <li>Rename the duplicate copy to <code>\"ConeDetection.ipynb\"</code></li>\n",
    "        <li>Move the duplicate <code>\"ConeDetection.ipynb\"</code> copy to the <code>/05-cone_detection</code> folder.</li>\n",
    "        <li>Continue working on your <code>\"ConeDetection.ipynb\"</code> file in the <code>/05-cone_detection</code> folder.</li>\n",
    "    </ul>\n",
    "    </p>\n",
    "\n",
    "<p style='font-size:1.75rem;line-height:1.5'>\n",
    "    The instructions above are <b>very important</b> so that you do not lose all of your hard work! \n",
    "    </p>\n",
    "    \n",
    "<p style='font-size:1.75rem;line-height:1.5'>\n",
    "    <b style='color:red'>Ask a TA for a check-off sticker before moving on to the next section.</b>\n",
    "    </p>"
   ]
  },
  {
   "cell_type": "markdown",
   "metadata": {},
   "source": [
    "\n",
    "---\n",
    "\n",
    "# Cone Detection\n",
    "\n",
    "## Overview\n",
    "<p style='font-size:1.75rem;line-height:1.5'>\n",
    "    One other challenge from the final challenge is the ability to detect priority objects and drive towards it (without a line!). Correctly identifying objects will enable us to access even faster and shorter shortcuts! \n",
    "    </p>\n",
    "\n",
    "<p style='font-size:1.75rem;line-height:1.5'>\n",
    "    The objects that we will be identifying includes cones, traffic signs, and gateways. Let us try to get a simple object detection algorithm working with the cone first.\n",
    "    </p>\n",
    "\n",
    "\n",
    "## Brainstorm Ideas Together!\n",
    "\n",
    "<p style='font-size:1.75rem;line-height:1.5'>\n",
    "    For this challenge, your car will be <b>detecting cones</b>. Thinking back to the <code>Cone Following</code> lab from before, how will we go about integrating the concepts we learned and used in this lab onto the racecar to detect cones?\n",
    "    </p>\n",
    "    \n",
    "<p style='font-size:1.75rem;line-height:1.5'>\n",
    "    <b style='color:blue'>Discuss with your partner how you will approach this object detection algorithm. </b>\n",
    "    </p>\n",
    "\n",
    "<p style='font-size:1.75rem;line-height:1.5'>\n",
    "    Look over your current functions. What functions are needed to keep track of a line color. How is this function different from detecting a cone? What will you need to keep track of BOTH lines and cones? What happens when there exists both lines and cones? Only cones? Only lines?\n",
    "    </p>\n",
    "    \n",
    "<p style='font-size:1.75rem;line-height:1.5'>\n",
    "    <b style='color:blue'>Discuss your plan of action with a TA first before getting started.</b>\n",
    "    </p>\n",
    "\n",
    "\n",
    "## Getting Started\n",
    " \n",
    "<p style='font-size:1.75rem;line-height:1.5'>\n",
    "    There are many different ways to approach this problem. Start implementing your ideas after your team has agreed on a viable solution. Good luck!\n",
    "    </p>\n",
    "    \n",
    "<p style='font-size:1.75rem;line-height:1.5'>\n",
    "    <b style='color:red'>Remember to get a sticker from a TA before taking your car off the block!</b>\n",
    "    </p>\n",
    "    "
   ]
  }
 ],
 "metadata": {
  "kernelspec": {
   "display_name": "Python 3",
   "language": "python",
   "name": "python3"
  },
  "language_info": {
   "codemirror_mode": {
    "name": "ipython",
    "version": 3
   },
   "file_extension": ".py",
   "mimetype": "text/x-python",
   "name": "python",
   "nbconvert_exporter": "python",
   "pygments_lexer": "ipython3",
   "version": "3.8.1"
  }
 },
 "nbformat": 4,
 "nbformat_minor": 4
}
